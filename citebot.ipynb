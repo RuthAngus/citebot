{
 "cells": [
  {
   "cell_type": "code",
   "execution_count": 1,
   "metadata": {},
   "outputs": [],
   "source": [
    "import numpy as np\n",
    "import ads"
   ]
  },
  {
   "cell_type": "code",
   "execution_count": 2,
   "metadata": {},
   "outputs": [],
   "source": [
    "mytoken = np.genfromtxt(\"/Users/ruthangus/.ads/dev_key\", dtype=str)\n",
    "ads.config.token = str(mytoken)"
   ]
  },
  {
   "cell_type": "code",
   "execution_count": 99,
   "metadata": {},
   "outputs": [],
   "source": [
    "#bibcodes = ['1994AAS...185.7506Z', '2001A&A...366...62A']\n",
    "bibcodes = [\"2012IAUS..285..364M\", \"2010Sci...327..977B\", \"2012PASP..124..985S\", \"2015MNRAS.452.2269R\",\n",
    "           \"2012MNRAS.419.3147A\", \"2008Sci...322.1345K\", \"2012Natur.481..167C\", \"2010ApJ...720.1073G\"]\n",
    "articles = [list(ads.SearchQuery(bibcode=bibcode))[0] for bibcode in bibcodes]"
   ]
  },
  {
   "cell_type": "code",
   "execution_count": 59,
   "metadata": {},
   "outputs": [],
   "source": [
    "refs = list(ads.SearchQuery(q=\"references(bibcode:{0})\".format(bibcodes[1])))\n",
    "cites = list(ads.SearchQuery(q=\"citations(bibcode:{0})\".format(bibcodes[1])))"
   ]
  },
  {
   "cell_type": "code",
   "execution_count": 67,
   "metadata": {},
   "outputs": [
    {
     "name": "stdout",
     "output_type": "stream",
     "text": [
      "50\n",
      "2018arXiv180503758L\n"
     ]
    }
   ],
   "source": [
    "print(len(cites))\n",
    "print(cites[0].bibcode)"
   ]
  },
  {
   "cell_type": "markdown",
   "metadata": {},
   "source": [
    "Write a function that takes a list of bibcodes and returns the bibcodes for all references in those papers."
   ]
  },
  {
   "cell_type": "code",
   "execution_count": 70,
   "metadata": {},
   "outputs": [],
   "source": [
    "def get_refs_and_cites_for_a_paper(bibcode):\n",
    "\n",
    "    refs = list(ads.SearchQuery(q=\"references(bibcode:{0})\".format(bibcode)))\n",
    "    ref_bibcodes = [ref.bibcode for ref in refs]\n",
    "    \n",
    "    cites = list(ads.SearchQuery(q=\"citations(bibcode:{0})\".format(bibcode)))\n",
    "    cite_bibcodes = [cite.bibcode for cite in cites]\n",
    "\n",
    "    return ref_bibcodes, cite_bibcodes\n",
    "\n",
    "ref_bibcodes, cite_bibcodes = get_refs_and_cites_for_a_paper(bibcodes[1])"
   ]
  },
  {
   "cell_type": "code",
   "execution_count": 97,
   "metadata": {},
   "outputs": [],
   "source": [
    "def get_refs_and_cites_for_a_list_of_bibcodes(bibcode_list):\n",
    "    refs, cites = [], []\n",
    "    for bibcode in bibcode_list:\n",
    "        ref_bibcodes, cite_bibcodes = get_refs_and_cites_for_a_paper(bibcode)\n",
    "        refs.append(ref_bibcodes)\n",
    "        cites.append(cite_bibcodes)\n",
    "    all_refs, all_cites = [i for i in refs for j in i], [i for i in cites for j in i]\n",
    "    return all_refs, all_cites"
   ]
  },
  {
   "cell_type": "code",
   "execution_count": 98,
   "metadata": {},
   "outputs": [],
   "source": [
    "refs, cites = get_refs_and_cites_for_a_list_of_bibcodes(bibcodes)"
   ]
  },
  {
   "cell_type": "code",
   "execution_count": null,
   "metadata": {},
   "outputs": [],
   "source": []
  }
 ],
 "metadata": {
  "anaconda-cloud": {},
  "kernelspec": {
   "display_name": "Python [conda root]",
   "language": "python",
   "name": "conda-root-py"
  },
  "language_info": {
   "codemirror_mode": {
    "name": "ipython",
    "version": 3
   },
   "file_extension": ".py",
   "mimetype": "text/x-python",
   "name": "python",
   "nbconvert_exporter": "python",
   "pygments_lexer": "ipython3",
   "version": "3.5.2"
  }
 },
 "nbformat": 4,
 "nbformat_minor": 1
}
