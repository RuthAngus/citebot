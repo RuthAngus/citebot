{
 "cells": [
  {
   "cell_type": "code",
   "execution_count": 2,
   "metadata": {},
   "outputs": [],
   "source": [
    "import numpy as np\n",
    "import ads\n",
    "from tqdm import tqdm\n",
    "from collections import Counter\n",
    "import re\n",
    "\n",
    "mytoken = np.genfromtxt(\"/Users/ruthangus/.ads/dev_key\", dtype=str)\n",
    "ads.config.token = str(mytoken)"
   ]
  },
  {
   "cell_type": "markdown",
   "metadata": {},
   "source": [
    "Write a function that takes a list of bibcodes and returns the bibcodes for all references in those papers."
   ]
  },
  {
   "cell_type": "code",
   "execution_count": 3,
   "metadata": {},
   "outputs": [],
   "source": [
    "def get_refs_and_cites_for_a_paper(bibcode):\n",
    "\n",
    "    refs = list(ads.SearchQuery(q=\"references(bibcode:{0})\".format(bibcode), sort=\"citation_count\"))\n",
    "    ref_bibcodes = [ref.bibcode for ref in refs]\n",
    "    \n",
    "    cites = list(ads.SearchQuery(q=\"citations(bibcode:{0})\".format(bibcode), sort=\"citation_count\"))\n",
    "    cite_bibcodes = [cite.bibcode for cite in cites]\n",
    "\n",
    "    return ref_bibcodes, cite_bibcodes"
   ]
  },
  {
   "cell_type": "code",
   "execution_count": 4,
   "metadata": {},
   "outputs": [],
   "source": [
    "def get_refs_and_cites_for_a_list_of_bibcodes(bibcode_list):\n",
    "    refs, cites = [], []\n",
    "    for bibcode in tqdm(bibcode_list):\n",
    "        ref_bibcodes, cite_bibcodes = get_refs_and_cites_for_a_paper(bibcode)\n",
    "        refs += ref_bibcodes\n",
    "        cites += cite_bibcodes\n",
    "    return refs, cites"
   ]
  },
  {
   "cell_type": "code",
   "execution_count": 5,
   "metadata": {},
   "outputs": [
    {
     "name": "stderr",
     "output_type": "stream",
     "text": [
      "100%|██████████| 169/169 [03:31<00:00,  1.29s/it]\n"
     ]
    }
   ],
   "source": [
    "txt = open(\"../GProtation/documents/GProtation.bib\", \"r\").read()\n",
    "bibcodes = re.findall(\"http://adsabs.harvard.edu/abs/(.+)}\", txt)\n",
    "\n",
    "refs, cites = get_refs_and_cites_for_a_list_of_bibcodes(bibcodes)"
   ]
  },
  {
   "cell_type": "code",
   "execution_count": 6,
   "metadata": {},
   "outputs": [
    {
     "data": {
      "text/plain": [
       "[('2018MNRAS.474.2094A', 30),\n",
       " ('2018ApJ...859..167E', 23),\n",
       " ('2018arXiv180606642G', 19),\n",
       " ('1984ApJ...279..763N', 15),\n",
       " ('1995A&A...293...87K', 15),\n",
       " ('2016arXiv160403979B', 14),\n",
       " ('2011AJ....142..112B', 13),\n",
       " ('2018ApJS..237...17S', 12),\n",
       " ('2018AJ....155..203H', 12),\n",
       " ('2017AJ....154..220F', 12)]"
      ]
     },
     "execution_count": 6,
     "metadata": {},
     "output_type": "execute_result"
    }
   ],
   "source": [
    "hist = Counter(refs)\n",
    "hist.update(cites)\n",
    "new_hist = Counter(dict((k, hist[k]) for k in set(hist.keys()) - set(bibcodes)))\n",
    "new_hist.most_common(10)"
   ]
  },
  {
   "cell_type": "code",
   "execution_count": null,
   "metadata": {},
   "outputs": [],
   "source": []
  }
 ],
 "metadata": {
  "anaconda-cloud": {},
  "kernelspec": {
   "display_name": "Python [conda root]",
   "language": "python",
   "name": "conda-root-py"
  },
  "language_info": {
   "codemirror_mode": {
    "name": "ipython",
    "version": 3
   },
   "file_extension": ".py",
   "mimetype": "text/x-python",
   "name": "python",
   "nbconvert_exporter": "python",
   "pygments_lexer": "ipython3",
   "version": "3.5.2"
  }
 },
 "nbformat": 4,
 "nbformat_minor": 1
}
