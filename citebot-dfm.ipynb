{
 "cells": [
  {
   "cell_type": "code",
   "execution_count": 21,
   "metadata": {},
   "outputs": [],
   "source": [
    "import re\n",
    "import ads\n",
    "import time\n",
    "import tqdm\n",
    "import json\n",
    "import requests\n",
    "from collections import Counter"
   ]
  },
  {
   "cell_type": "code",
   "execution_count": 2,
   "metadata": {},
   "outputs": [
    {
     "name": "stdout",
     "output_type": "stream",
     "text": [
      "50\n"
     ]
    }
   ],
   "source": [
    "txt = open(\"test_data/celerite.bib\", \"r\").read()\n",
    "bibcodes = re.findall(\"http://adsabs.harvard.edu/abs/(.+)}\", txt)\n",
    "print(len(bibcodes))"
   ]
  },
  {
   "cell_type": "code",
   "execution_count": 5,
   "metadata": {},
   "outputs": [],
   "source": [
    "def get_all_bibcodes(q):\n",
    "    sort = \"bibcode desc\"\n",
    "    query = ads.SearchQuery(q=q, sort=sort, fl=[\"bibcode\"])\n",
    "    bibcodes = []\n",
    "    while True:\n",
    "        query.execute()\n",
    "        new_bibcodes = [a.bibcode for a in query.response.articles]\n",
    "        bibcodes += new_bibcodes\n",
    "        if len(new_bibcodes) < 50:\n",
    "            break\n",
    "        \n",
    "        # Check rate limits\n",
    "        limits = query.response.get_ratelimits()\n",
    "        if int(limits[\"remaining\"]) <= 0:\n",
    "            wait = int(limits[\"reset\"]) - time.time()\n",
    "            print(\"Request has been rate limited. Resets in {0} minutes\".format(wait/60.0))\n",
    "            time.sleep(wait)\n",
    "    return bibcodes\n",
    "\n",
    "def get_refs_and_cites(bibcode, ref_cache, cite_cache):\n",
    "    if bibcode not in ref_cache:\n",
    "        ref_cache[bibcode] = get_all_bibcodes(\"references(bibcode:{0})\".format(bibcode))\n",
    "    if bibcode not in cite_cache:\n",
    "        cite_cache[bibcode] = get_all_bibcodes(\"citations(bibcode:{0})\".format(bibcode))\n",
    "    return ref_cache[bibcode] + cite_cache[bibcode]\n",
    "\n",
    "def get_connections(bibcode_list, ref_cache=None, cite_cache=None):\n",
    "    ref_cache = {} if ref_cache is None else ref_cache\n",
    "    cite_cache = {} if cite_cache is None else cite_cache\n",
    "    \n",
    "    connections = []\n",
    "    with tqdm.tqdm(bibcode_list) as t:\n",
    "        for bibcode in t:\n",
    "            t.set_description(bibcode)\n",
    "            connections += get_refs_and_cites(bibcode, ref_cache, cite_cache)\n",
    "            t.set_postfix(num=len(connections))\n",
    "        \n",
    "    return connections, ref_cache, cite_cache"
   ]
  },
  {
   "cell_type": "code",
   "execution_count": 6,
   "metadata": {},
   "outputs": [
    {
     "name": "stderr",
     "output_type": "stream",
     "text": [
      "2014ApJS..211...24M: 100%|██████████| 50/50 [06:48<00:00,  4.02s/it, num=2.44e+04]\n"
     ]
    }
   ],
   "source": [
    "results = get_connections(bibcodes)"
   ]
  },
  {
   "cell_type": "code",
   "execution_count": 10,
   "metadata": {},
   "outputs": [],
   "source": [
    "with open(\"test_data/ref_cache.json\", \"w\") as f:\n",
    "    json.dump(results[1], f)\n",
    "with open(\"test_data/cite_cache.json\", \"w\") as f:\n",
    "    json.dump(results[2], f)"
   ]
  },
  {
   "cell_type": "code",
   "execution_count": 44,
   "metadata": {},
   "outputs": [],
   "source": [
    "hist = Counter(results[0])\n",
    "hist = Counter(dict((k, hist[k]) for k in set(hist.keys()) - set(bibcodes)))\n",
    "sorted_entries = [entry[0] for entry in hist.most_common(100)]"
   ]
  },
  {
   "cell_type": "code",
   "execution_count": 45,
   "metadata": {},
   "outputs": [],
   "source": [
    "token = ads.base.BaseQuery().token\n",
    "headers = {\n",
    "    \"Authorization\": \"Bearer {}\".format(token),\n",
    "    \"User-Agent\": \"citebot\",\n",
    "    \"Content-Type\": \"application/json\",\n",
    "}\n",
    "data = dict(name=\"citebot-test-3\", bibcode=sorted_entries)\n",
    "\n",
    "r = requests.post(\"https://api.adsabs.harvard.edu/v1/biblib/libraries\",\n",
    "                  json=data, headers=headers)\n",
    "r.raise_for_status()"
   ]
  },
  {
   "cell_type": "code",
   "execution_count": null,
   "metadata": {},
   "outputs": [],
   "source": []
  }
 ],
 "metadata": {
  "anaconda-cloud": {},
  "kernelspec": {
   "display_name": "Python 3",
   "language": "python",
   "name": "python3"
  },
  "language_info": {
   "codemirror_mode": {
    "name": "ipython",
    "version": 3
   },
   "file_extension": ".py",
   "mimetype": "text/x-python",
   "name": "python",
   "nbconvert_exporter": "python",
   "pygments_lexer": "ipython3",
   "version": "3.6.1"
  }
 },
 "nbformat": 4,
 "nbformat_minor": 2
}
